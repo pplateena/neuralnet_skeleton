{
 "cells": [
  {
   "cell_type": "code",
   "outputs": [],
   "source": [
    "import cv2\n",
    "import numpy as np\n",
    "import pandas as pd\n",
    "import tensorflow as tf\n",
    "from tensorflow import keras\n",
    "from tensorflow.keras.models import Sequential\n",
    "from tensorflow.keras.layers import Conv2D, MaxPooling2D, Flatten, Dense, Input, Lambda\n",
    "from sklearn.model_selection import train_test_split\n",
    "from tensorflow.keras.optimizers import Adam\n",
    "\n",
    "import os\n",
    "\n",
    "# os.environ[\"CUDA_VISIBLE_DEVICES\"] = \"-1\""
   ],
   "metadata": {
    "collapsed": false,
    "ExecuteTime": {
     "end_time": "2024-07-04T09:01:59.639305Z",
     "start_time": "2024-07-04T09:01:52.979424900Z"
    }
   },
   "execution_count": 1
  },
  {
   "cell_type": "code",
   "outputs": [],
   "source": [
    "def create_input():\n",
    "    X = []\n",
    "    y = []\n",
    "    df = pd.read_csv(\"classification_data/explore_img/explore_data.csv\")\n",
    "    shuffled_df = df.sample(len(df))\n",
    "\n",
    "    for entry in shuffled_df.values:\n",
    "\n",
    "        entry_img = cv2.imread(f\"classification_data/explore_img/{entry[0]}\")\n",
    "\n",
    "        prepared_y = np.delete(entry,0) * 3\n",
    "\n",
    "        if prepared_y[0] <= 960:\n",
    "            prepared_y[0] =  -(960 - prepared_y[0])\n",
    "        else:\n",
    "            prepared_y[0] = prepared_y[0]-960\n",
    "            \n",
    "        if prepared_y[1] <= 540:\n",
    "            prepared_y[1] = - (540 - prepared_y[1])\n",
    "        else:\n",
    "            prepared_y[1] = prepared_y[1] - 540\n",
    " \n",
    "        X.append(entry_img)\n",
    "        y.append(prepared_y)\n",
    "        \n",
    "    \n",
    "    X = np.asarray(X)\n",
    "    y = np.asarray(y).astype(np.float32)\n",
    "    return X, y\n"
   ],
   "metadata": {
    "collapsed": false,
    "ExecuteTime": {
     "end_time": "2024-07-04T09:01:59.657224400Z",
     "start_time": "2024-07-04T09:01:59.646252800Z"
    }
   },
   "execution_count": 2
  },
  {
   "cell_type": "code",
   "outputs": [],
   "source": [
    "def compile_model():\n",
    "    image_width, image_height, channels = 640, 360, 3  # Assuming RGB images\n",
    "\n",
    "    \n",
    "    model = Sequential()\n",
    "    model.add(Input(shape=(image_height, image_width, channels)))\n",
    "    model.add(MaxPooling2D((2, 2)))\n",
    "    model.add(Conv2D(64, (3, 3), activation='relu'))\n",
    "    model.add(MaxPooling2D((2, 2)))\n",
    "    model.add(Flatten())\n",
    "    model.add(Dense(64, activation='relu'))\n",
    "    model.add(Dense(64, activation='relu'))\n",
    "    model.add(Dense(64, activation='relu'))\n",
    "    model.add(Dense(64, activation='relu'))\n",
    "    model.add(Dense(2, activation='linear'))\n",
    "\n",
    "    model.compile(loss='mean_squared_error', optimizer=Adam())\n",
    "    tf.compat.v1.disable_eager_execution()\n",
    "    tf.compat.v1.experimental.output_all_intermediates(True)\n",
    "    return model\n",
    "\n",
    "model = compile_model()"
   ],
   "metadata": {
    "collapsed": false,
    "ExecuteTime": {
     "end_time": "2024-07-04T09:01:47.226390900Z",
     "start_time": "2024-07-04T09:01:47.074668700Z"
    }
   },
   "execution_count": 9
  },
  {
   "cell_type": "code",
   "outputs": [
    {
     "name": "stdout",
     "output_type": "stream",
     "text": [
      "(956, 360, 640, 3) (956, 2)\n"
     ]
    }
   ],
   "source": [
    "X, y = create_input()\n",
    "\n",
    "X_train, X_val, y_train, y_val = train_test_split(X, y, test_size=0.2, random_state=42)\n",
    "print(X_train.shape, y_train.shape)\n"
   ],
   "metadata": {
    "collapsed": false,
    "ExecuteTime": {
     "end_time": "2024-07-04T09:02:05.299136Z",
     "start_time": "2024-07-04T09:01:59.657224400Z"
    }
   },
   "execution_count": 3
  },
  {
   "cell_type": "code",
   "outputs": [],
   "source": [
    "\n",
    "model.fit(X_train, y_train, epochs=40, validation_data=(X_val, y_val),batch_size = 24)\n"
   ],
   "metadata": {
    "collapsed": false
   },
   "execution_count": null
  },
  {
   "cell_type": "code",
   "outputs": [],
   "source": [
    "model.save('ME_gpu.h5')"
   ],
   "metadata": {
    "collapsed": false
   },
   "execution_count": null
  },
  {
   "cell_type": "code",
   "outputs": [
    {
     "name": "stderr",
     "output_type": "stream",
     "text": [
      "C:\\Users\\ukrst\\.conda\\envs\\tf_6\\lib\\site-packages\\keras\\engine\\training_v1.py:2356: UserWarning: `Model.state_updates` will be removed in a future version. This property should not be used in TensorFlow 2.0, as `updates` are applied automatically.\n",
      "  updates=self.state_updates,\n"
     ]
    },
    {
     "name": "stdout",
     "output_type": "stream",
     "text": [
      "1284 183 \n",
      " 1275 180\n",
      "257 538 \n",
      " 213 558\n",
      "832 995 \n",
      " 843 1011\n",
      "445 862 \n",
      " 417 861\n",
      "1443 867 \n",
      " 1473 876\n",
      "1334 195 \n",
      " 1344 192\n",
      "566 159 \n",
      " 558 165\n",
      "1754 665 \n",
      " 1788 687\n",
      "1001 300 \n",
      " 1197 78\n",
      "1267 917 \n",
      " 1428 870\n",
      "829 959 \n",
      " 813 963\n",
      "638 232 \n",
      " 630 237\n",
      "198 379 \n",
      " 264 414\n",
      "1570 692 \n",
      " 1569 720\n",
      "395 206 \n",
      " 366 204\n",
      "1508 637 \n",
      " 1530 651\n",
      "1271 404 \n",
      " 1494 162\n",
      "608 90 \n",
      " 606 108\n",
      "991 424 \n",
      " 576 153\n",
      "1486 89 \n",
      " 1500 93\n"
     ]
    }
   ],
   "source": [
    "tf.compat.v1.disable_eager_execution()\n",
    "tf.compat.v1.experimental.output_all_intermediates(True)\n",
    "model_rap = tf.keras.models.load_model('ME_gpu.h5')\n",
    "model_rap.compile(loss='mean_squared_error', optimizer=Adam())\n",
    "\n",
    "for n in range(20):\n",
    "    n = n +20\n",
    "    x_real, y_real = int(y_val[n][0]), int(y_val[n][1])\n",
    "    \n",
    "    if x_real <= 960:\n",
    "        x_real =  960 + x_real\n",
    "    else:\n",
    "        x_real = x_real + 960\n",
    "        \n",
    "    if y_real <= 540:\n",
    "        y_real = 540 + y_real \n",
    "    else:\n",
    "        y_real = y_real + 540\n",
    "    \n",
    "    img = np.asarray(X_val[n])\n",
    "\n",
    "    tbp = np.expand_dims(img, axis=0)\n",
    "    img = cv2.resize(img,(1920,1080))\n",
    "    predictions = model_rap.predict(tbp)\n",
    "    x, y = int(predictions[0][0]), int(predictions[0][1])\n",
    "    \n",
    "    if x <= 960:\n",
    "        x =  960 + x\n",
    "    else:\n",
    "        x = x + 960\n",
    "        \n",
    "    if y <= 540:\n",
    "        y = 540 + y \n",
    "    else:\n",
    "        y = y + 540\n",
    "    \n",
    "    print(x, y, \"\\n\",x_real, y_real)\n",
    "    \n",
    "    cv2.circle(img, (x,y), 15, (0,0,255), -1)\n",
    "    cv2.circle(img, (x_real, y_real), 10, (255,255,255), -1)\n",
    "    \n",
    "    cv2.imshow('ss', img)\n",
    "    cv2.waitKey(0) & 0xFF\n",
    "cv2.destroyWindow('ss')"
   ],
   "metadata": {
    "collapsed": false,
    "ExecuteTime": {
     "end_time": "2024-07-04T09:03:15.778992800Z",
     "start_time": "2024-07-04T09:02:05.307111800Z"
    }
   },
   "execution_count": 4
  },
  {
   "cell_type": "code",
   "outputs": [],
   "source": [
    "model_rap = tf.keras.models.load_model('mouse_explore_fhd_normalized_gpu.h5')\n",
    "model_rap.compile(optimizer='adam',\n",
    "              loss='mean_squared_error')\n",
    "\n",
    "\n",
    "model_rap.fit(X_train, y_train, epochs=20, validation_data=(X_val, y_val),batch_size = 16)\n",
    "model_rap.save('mouse_explore_fhd_normalized2.h5')"
   ],
   "metadata": {
    "collapsed": false
   },
   "execution_count": null
  }
 ],
 "metadata": {
  "accelerator": "GPU",
  "colab": {
   "gpuType": "T4",
   "provenance": []
  },
  "kernelspec": {
   "display_name": "Python 3 (ipykernel)",
   "name": "python3",
   "language": "python"
  },
  "language_info": {
   "name": "python"
  }
 },
 "nbformat": 4,
 "nbformat_minor": 0
}
