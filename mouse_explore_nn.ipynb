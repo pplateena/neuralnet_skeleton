{
 "cells": [
  {
   "cell_type": "code",
   "outputs": [],
   "source": [
    "import cv2\n",
    "import numpy as np\n",
    "import pandas as pd\n",
    "import tensorflow as tf\n",
    "from tensorflow import keras\n",
    "from tensorflow.keras.models import Sequential\n",
    "from tensorflow.keras.layers import Conv2D, MaxPooling2D, Flatten, Dense, Input, Lambda\n",
    "from sklearn.model_selection import train_test_split\n",
    "from tensorflow.keras.optimizers import Adam\n",
    "\n",
    "import os\n",
    "\n",
    "# os.environ[\"CUDA_VISIBLE_DEVICES\"] = \"-1\""
   ],
   "metadata": {
    "collapsed": false,
    "ExecuteTime": {
     "end_time": "2024-07-04T20:02:22.003602500Z",
     "start_time": "2024-07-04T20:02:02.944243600Z"
    }
   },
   "execution_count": 1
  },
  {
   "cell_type": "code",
   "outputs": [],
   "source": [
    "def create_input():\n",
    "    X = []\n",
    "    y = []\n",
    "    df = pd.read_csv(\"classification_data/explore_img/explore_data.csv\")\n",
    "    shuffled_df = df.sample(len(df))\n",
    "\n",
    "    for entry in shuffled_df.values:\n",
    "\n",
    "        entry_img = cv2.imread(f\"classification_data/explore_img/{entry[0]}\")\n",
    "\n",
    "        prepared_y = np.delete(entry,0) * 3\n",
    "\n",
    "        if prepared_y[0] <= 960:\n",
    "            prepared_y[0] =  -(960 - prepared_y[0])\n",
    "        else:\n",
    "            prepared_y[0] = prepared_y[0]-960\n",
    "            \n",
    "        if prepared_y[1] <= 540:\n",
    "            prepared_y[1] = - (540 - prepared_y[1])\n",
    "        else:\n",
    "            prepared_y[1] = prepared_y[1] - 540\n",
    " \n",
    "        X.append(entry_img)\n",
    "        y.append(prepared_y)\n",
    "        \n",
    "    \n",
    "    X = np.asarray(X)\n",
    "    y = np.asarray(y).astype(np.float32)\n",
    "    return X, y\n"
   ],
   "metadata": {
    "collapsed": false,
    "ExecuteTime": {
     "end_time": "2024-07-04T20:02:22.024545200Z",
     "start_time": "2024-07-04T20:02:22.009588100Z"
    }
   },
   "execution_count": 2
  },
  {
   "cell_type": "code",
   "outputs": [],
   "source": [
    "def compile_model():\n",
    "    image_width, image_height, channels = 640, 360, 3  # Assuming RGB images\n",
    "\n",
    "    \n",
    "    model = Sequential()\n",
    "    model.add(Input(shape=(image_height, image_width, channels)))\n",
    "    model.add(MaxPooling2D((2, 2)))\n",
    "    model.add(Conv2D(64, (3, 3), activation='relu'))\n",
    "    model.add(MaxPooling2D((2, 2)))\n",
    "    model.add(Flatten())\n",
    "    model.add(Dense(64, activation='relu'))\n",
    "    model.add(Dense(64, activation='relu'))\n",
    "    model.add(Dense(64, activation='relu'))\n",
    "    model.add(Dense(64, activation='relu'))\n",
    "    model.add(Dense(2, activation='linear'))\n",
    "\n",
    "    model.compile(loss='mean_squared_error', optimizer=Adam())\n",
    "    tf.compat.v1.disable_eager_execution()\n",
    "    tf.compat.v1.experimental.output_all_intermediates(True)\n",
    "    return model\n",
    "\n",
    "model = compile_model()"
   ],
   "metadata": {
    "collapsed": false,
    "ExecuteTime": {
     "end_time": "2024-07-04T09:01:47.226390900Z",
     "start_time": "2024-07-04T09:01:47.074668700Z"
    }
   },
   "execution_count": 9
  },
  {
   "cell_type": "code",
   "outputs": [
    {
     "name": "stdout",
     "output_type": "stream",
     "text": [
      "(956, 360, 640, 3) (956, 2)\n"
     ]
    }
   ],
   "source": [
    "X, y = create_input()\n",
    "\n",
    "X_train, X_val, y_train, y_val = train_test_split(X, y, test_size=0.2, random_state=42)\n",
    "print(X_train.shape, y_train.shape)\n"
   ],
   "metadata": {
    "collapsed": false,
    "ExecuteTime": {
     "end_time": "2024-07-04T20:02:45.024312900Z",
     "start_time": "2024-07-04T20:02:26.619302500Z"
    }
   },
   "execution_count": 3
  },
  {
   "cell_type": "code",
   "outputs": [],
   "source": [
    "\n",
    "model.fit(X_train, y_train, epochs=40, validation_data=(X_val, y_val),batch_size = 24)\n"
   ],
   "metadata": {
    "collapsed": false
   },
   "execution_count": null
  },
  {
   "cell_type": "code",
   "outputs": [],
   "source": [
    "model.save('ME_gpu.h5')"
   ],
   "metadata": {
    "collapsed": false
   },
   "execution_count": null
  },
  {
   "cell_type": "code",
   "outputs": [
    {
     "name": "stderr",
     "output_type": "stream",
     "text": [
      "C:\\Users\\ukrst\\.conda\\envs\\tf_6\\lib\\site-packages\\keras\\engine\\training_v1.py:2356: UserWarning: `Model.state_updates` will be removed in a future version. This property should not be used in TensorFlow 2.0, as `updates` are applied automatically.\n",
      "  updates=self.state_updates,\n"
     ]
    },
    {
     "name": "stdout",
     "output_type": "stream",
     "text": [
      "1095 99 \n",
      " 1080 93\n",
      "1494 681 \n",
      " 1494 732\n",
      "561 70 \n",
      " 546 69\n",
      "395 313 \n",
      " 354 303\n",
      "518 256 \n",
      " 480 264\n",
      "529 607 \n",
      " 372 285\n",
      "918 893 \n",
      " 900 912\n",
      "1015 482 \n",
      " 1338 807\n",
      "325 326 \n",
      " 285 297\n",
      "810 150 \n",
      " 801 150\n",
      "803 345 \n",
      " 783 357\n",
      "1388 447 \n",
      " 1125 927\n",
      "1109 216 \n",
      " 1110 231\n",
      "1584 451 \n",
      " 1575 444\n",
      "970 48 \n",
      " 942 54\n",
      "1137 81 \n",
      " 1140 93\n",
      "1427 351 \n",
      " 1467 342\n",
      "1467 794 \n",
      " 1356 924\n",
      "592 808 \n",
      " 579 831\n",
      "1512 118 \n",
      " 1569 138\n"
     ]
    }
   ],
   "source": [
    "tf.compat.v1.disable_eager_execution()\n",
    "tf.compat.v1.experimental.output_all_intermediates(True)\n",
    "model_rap = tf.keras.models.load_model('ME_gpu.h5')\n",
    "model_rap.compile(loss='mean_squared_error', optimizer=Adam())\n",
    "\n",
    "for n in range(20):\n",
    "    n = n +20\n",
    "    x_real, y_real = int(y_val[n][0]), int(y_val[n][1])\n",
    "    \n",
    "    if x_real <= 960:\n",
    "        x_real =  960 + x_real\n",
    "    else:\n",
    "        x_real = x_real + 960\n",
    "        \n",
    "    if y_real <= 540:\n",
    "        y_real = 540 + y_real \n",
    "    else:\n",
    "        y_real = y_real + 540\n",
    "    \n",
    "    img = np.asarray(X_val[n])\n",
    "\n",
    "    tbp = np.expand_dims(img, axis=0)\n",
    "    img = cv2.resize(img,(1920,1080))\n",
    "    predictions = model_rap.predict(tbp)\n",
    "    x, y = int(predictions[0][0]), int(predictions[0][1])\n",
    "    \n",
    "    if x <= 960:\n",
    "        x =  960 + x\n",
    "    else:\n",
    "        x = x + 960\n",
    "        \n",
    "    if y <= 540:\n",
    "        y = 540 + y \n",
    "    else:\n",
    "        y = y + 540\n",
    "    \n",
    "    print(x, y, \"\\n\",x_real, y_real)\n",
    "    \n",
    "    cv2.circle(img, (x,y), 15, (0,0,255), -1)\n",
    "    cv2.circle(img, (x_real, y_real), 10, (255,255,255), -1)\n",
    "    \n",
    "    cv2.imshow('ss', img)\n",
    "    cv2.waitKey(0) & 0xFF\n",
    "cv2.destroyWindow('ss')"
   ],
   "metadata": {
    "collapsed": false,
    "ExecuteTime": {
     "end_time": "2024-07-04T20:03:38.116087100Z",
     "start_time": "2024-07-04T20:02:48.404735600Z"
    }
   },
   "execution_count": 4
  },
  {
   "cell_type": "code",
   "outputs": [],
   "source": [
    "model_rap = tf.keras.models.load_model('mouse_explore_fhd_normalized_gpu.h5')\n",
    "model_rap.compile(optimizer='adam',\n",
    "              loss='mean_squared_error')\n",
    "\n",
    "\n",
    "model_rap.fit(X_train, y_train, epochs=20, validation_data=(X_val, y_val),batch_size = 16)\n",
    "model_rap.save('mouse_explore_fhd_normalized2.h5')"
   ],
   "metadata": {
    "collapsed": false
   },
   "execution_count": null
  }
 ],
 "metadata": {
  "accelerator": "GPU",
  "colab": {
   "gpuType": "T4",
   "provenance": []
  },
  "kernelspec": {
   "display_name": "Python 3 (ipykernel)",
   "name": "python3",
   "language": "python"
  },
  "language_info": {
   "name": "python"
  }
 },
 "nbformat": 4,
 "nbformat_minor": 0
}
