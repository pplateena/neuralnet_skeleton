{
 "cells": [
  {
   "cell_type": "code",
   "outputs": [],
   "source": [
    "import tensorflow as tf\n",
    "from tensorflow.keras.applications import MobileNet\n",
    "from tensorflow.keras.layers import Dense, GlobalAveragePooling2D\n",
    "from sklearn.model_selection import train_test_split\n",
    "# Additional libraries for data handling, preprocessing, etc.\n",
    "import cv2\n",
    "import os\n",
    "import numpy as np"
   ],
   "metadata": {
    "collapsed": false,
    "ExecuteTime": {
     "end_time": "2024-07-01T09:26:28.502668100Z",
     "start_time": "2024-07-01T09:26:19.765192600Z"
    }
   },
   "execution_count": 1
  },
  {
   "cell_type": "code",
   "outputs": [
    {
     "ename": "NameError",
     "evalue": "name 'MobileNet' is not defined",
     "output_type": "error",
     "traceback": [
      "\u001B[1;31m---------------------------------------------------------------------------\u001B[0m",
      "\u001B[1;31mNameError\u001B[0m                                 Traceback (most recent call last)",
      "Cell \u001B[1;32mIn[2], line 5\u001B[0m\n\u001B[0;32m      2\u001B[0m input_shape \u001B[38;5;241m=\u001B[39m (\u001B[38;5;241m360\u001B[39m, \u001B[38;5;241m640\u001B[39m, \u001B[38;5;241m3\u001B[39m)\n\u001B[0;32m      4\u001B[0m \u001B[38;5;66;03m# Load MobileNet, excluding the final classification layer\u001B[39;00m\n\u001B[1;32m----> 5\u001B[0m mobilenet \u001B[38;5;241m=\u001B[39m \u001B[43mMobileNet\u001B[49m(weights\u001B[38;5;241m=\u001B[39m\u001B[38;5;124m'\u001B[39m\u001B[38;5;124mimagenet\u001B[39m\u001B[38;5;124m'\u001B[39m, include_top\u001B[38;5;241m=\u001B[39m\u001B[38;5;28;01mFalse\u001B[39;00m, input_shape\u001B[38;5;241m=\u001B[39minput_shape)\n\u001B[0;32m      7\u001B[0m \u001B[38;5;66;03m# Freeze the pre-trained layers to avoid retraining them (optional)\u001B[39;00m\n\u001B[0;32m      8\u001B[0m \u001B[38;5;28;01mfor\u001B[39;00m layer \u001B[38;5;129;01min\u001B[39;00m mobilenet\u001B[38;5;241m.\u001B[39mlayers:\n",
      "\u001B[1;31mNameError\u001B[0m: name 'MobileNet' is not defined"
     ]
    }
   ],
   "source": [
    "# Define input shape based on your image size (here, 640x360)\n",
    "input_shape = (360, 640, 3)\n",
    "\n",
    "# Load MobileNet, excluding the final classification layer\n",
    "mobilenet = MobileNet(weights='imagenet', include_top=False, input_shape=input_shape)\n",
    "\n",
    "# Freeze the pre-trained layers to avoid retraining them (optional)\n",
    "for layer in mobilenet.layers:\n",
    "  layer.trainable = False\n"
   ],
   "metadata": {
    "collapsed": false,
    "ExecuteTime": {
     "end_time": "2024-06-30T22:09:20.464570500Z",
     "start_time": "2024-06-30T22:09:20.396971600Z"
    }
   },
   "execution_count": 2
  },
  {
   "cell_type": "code",
   "outputs": [],
   "source": [
    "# GlobalAveragePooling2D reduces spatial dimensions to a single vector\n",
    "x = GlobalAveragePooling2D()(mobilenet.output)\n",
    "\n",
    "# Dense layer with 4 units (one for each variant) and softmax activation\n",
    "predictions = Dense(2, activation='sigmoid')(x)\n",
    "\n",
    "# Create the final model\n",
    "model = tf.keras.Model(inputs=mobilenet.input, outputs=predictions)\n"
   ],
   "metadata": {
    "collapsed": false,
    "ExecuteTime": {
     "end_time": "2024-06-26T20:02:35.686828300Z",
     "start_time": "2024-06-26T20:02:35.653030Z"
    }
   },
   "execution_count": 3
  },
  {
   "cell_type": "code",
   "outputs": [],
   "source": [
    "model.compile(optimizer='adam',\n",
    "              loss='categorical_crossentropy',\n",
    "              metrics=['accuracy'])\n"
   ],
   "metadata": {
    "collapsed": false,
    "ExecuteTime": {
     "end_time": "2024-06-26T20:02:35.940430600Z",
     "start_time": "2024-06-26T20:02:35.679848Z"
    }
   },
   "execution_count": 4
  },
  {
   "cell_type": "code",
   "outputs": [],
   "source": [
    "import cv2\n",
    "import os\n",
    "import numpy as np\n",
    "\n",
    "# Define empty lists for images and labels\n",
    "X = []\n",
    "y = []\n",
    "\n",
    "# Folder path (replace 'path/to/images' with your actual folder path)\n",
    "folder_path = 'classification_data/'\n",
    "\n",
    "# Loop through folders\n",
    "for folder_name in ['attack_img', 'explore_img']: #, 'loot_img', 'getaway_img']:\n",
    "    folder_full_path = os.path.join(folder_path + folder_name)\n",
    "    \n",
    "    class_label = {\n",
    "      'attack_img': [1,0],\n",
    "      'explore_img': [0,1],\n",
    "      # 'loot_img': [0,0,1,0],\n",
    "      # 'getaway_img': [0,0,0,1]\n",
    "    }[folder_name]\n",
    "    \n",
    "    for filename in os.listdir(folder_full_path):\n",
    "        if filename.endswith(\".jpg\") :\n",
    "            img = cv2.imread(os.path.join(folder_full_path, filename))\n",
    "        \n",
    "            # Append image to X and label to y\n",
    "            X.append(img)\n",
    "            \n",
    "            \n",
    "            y.append(class_label)\n",
    "        \n",
    "\n",
    "X = np.asarray(X)\n",
    "y = np.asarray(y)"
   ],
   "metadata": {
    "collapsed": false,
    "ExecuteTime": {
     "end_time": "2024-06-30T22:10:09.894055Z",
     "start_time": "2024-06-30T22:10:01.010069400Z"
    }
   },
   "execution_count": 7
  },
  {
   "cell_type": "code",
   "outputs": [
    {
     "name": "stdout",
     "output_type": "stream",
     "text": [
      "(1330, 360, 640, 3) (1330, 2)\n"
     ]
    }
   ],
   "source": [
    "X_train, X_val, y_train, y_val = train_test_split(X, y, test_size=0.2, random_state=42)\n",
    "print(X_train.shape, y_train.shape)\n",
    "# (print(y_train[-100:-1]))"
   ],
   "metadata": {
    "collapsed": false,
    "ExecuteTime": {
     "end_time": "2024-06-30T22:10:10.241555400Z",
     "start_time": "2024-06-30T22:10:09.898046400Z"
    }
   },
   "execution_count": 8
  },
  {
   "cell_type": "code",
   "outputs": [
    {
     "name": "stdout",
     "output_type": "stream",
     "text": [
      "Epoch 1/80\n",
      "\u001B[1m14/14\u001B[0m \u001B[32m━━━━━━━━━━━━━━━━━━━━\u001B[0m\u001B[37m\u001B[0m \u001B[1m39s\u001B[0m 2s/step - accuracy: 0.4643 - loss: 1.3438 - val_accuracy: 0.7297 - val_loss: 0.7436\n",
      "Epoch 2/80\n",
      "\u001B[1m14/14\u001B[0m \u001B[32m━━━━━━━━━━━━━━━━━━━━\u001B[0m\u001B[37m\u001B[0m \u001B[1m35s\u001B[0m 3s/step - accuracy: 0.6708 - loss: 0.7405 - val_accuracy: 0.7207 - val_loss: 0.5860\n",
      "Epoch 3/80\n",
      "\u001B[1m14/14\u001B[0m \u001B[32m━━━━━━━━━━━━━━━━━━━━\u001B[0m\u001B[37m\u001B[0m \u001B[1m32s\u001B[0m 2s/step - accuracy: 0.7327 - loss: 0.5906 - val_accuracy: 0.7477 - val_loss: 0.5305\n",
      "Epoch 4/80\n",
      "\u001B[1m14/14\u001B[0m \u001B[32m━━━━━━━━━━━━━━━━━━━━\u001B[0m\u001B[37m\u001B[0m \u001B[1m33s\u001B[0m 2s/step - accuracy: 0.7245 - loss: 0.5477 - val_accuracy: 0.7477 - val_loss: 0.5073\n",
      "Epoch 5/80\n",
      "\u001B[1m14/14\u001B[0m \u001B[32m━━━━━━━━━━━━━━━━━━━━\u001B[0m\u001B[37m\u001B[0m \u001B[1m34s\u001B[0m 2s/step - accuracy: 0.7091 - loss: 0.5116 - val_accuracy: 0.7297 - val_loss: 0.4857\n",
      "Epoch 6/80\n",
      "\u001B[1m14/14\u001B[0m \u001B[32m━━━━━━━━━━━━━━━━━━━━\u001B[0m\u001B[37m\u001B[0m \u001B[1m33s\u001B[0m 2s/step - accuracy: 0.7392 - loss: 0.4987 - val_accuracy: 0.7387 - val_loss: 0.4728\n",
      "Epoch 7/80\n",
      "\u001B[1m14/14\u001B[0m \u001B[32m━━━━━━━━━━━━━━━━━━━━\u001B[0m\u001B[37m\u001B[0m \u001B[1m34s\u001B[0m 2s/step - accuracy: 0.7591 - loss: 0.4786 - val_accuracy: 0.7387 - val_loss: 0.4595\n",
      "Epoch 8/80\n",
      "\u001B[1m14/14\u001B[0m \u001B[32m━━━━━━━━━━━━━━━━━━━━\u001B[0m\u001B[37m\u001B[0m \u001B[1m36s\u001B[0m 3s/step - accuracy: 0.7886 - loss: 0.4453 - val_accuracy: 0.7658 - val_loss: 0.4462\n",
      "Epoch 9/80\n",
      "\u001B[1m14/14\u001B[0m \u001B[32m━━━━━━━━━━━━━━━━━━━━\u001B[0m\u001B[37m\u001B[0m \u001B[1m33s\u001B[0m 2s/step - accuracy: 0.7900 - loss: 0.4546 - val_accuracy: 0.7658 - val_loss: 0.4381\n",
      "Epoch 10/80\n",
      "\u001B[1m14/14\u001B[0m \u001B[32m━━━━━━━━━━━━━━━━━━━━\u001B[0m\u001B[37m\u001B[0m \u001B[1m32s\u001B[0m 2s/step - accuracy: 0.8259 - loss: 0.4270 - val_accuracy: 0.7928 - val_loss: 0.4312\n",
      "Epoch 11/80\n",
      "\u001B[1m14/14\u001B[0m \u001B[32m━━━━━━━━━━━━━━━━━━━━\u001B[0m\u001B[37m\u001B[0m \u001B[1m32s\u001B[0m 2s/step - accuracy: 0.8283 - loss: 0.4086 - val_accuracy: 0.7838 - val_loss: 0.4360\n",
      "Epoch 12/80\n",
      "\u001B[1m14/14\u001B[0m \u001B[32m━━━━━━━━━━━━━━━━━━━━\u001B[0m\u001B[37m\u001B[0m \u001B[1m34s\u001B[0m 2s/step - accuracy: 0.8323 - loss: 0.4098 - val_accuracy: 0.7928 - val_loss: 0.4217\n",
      "Epoch 13/80\n",
      "\u001B[1m14/14\u001B[0m \u001B[32m━━━━━━━━━━━━━━━━━━━━\u001B[0m\u001B[37m\u001B[0m \u001B[1m33s\u001B[0m 2s/step - accuracy: 0.8129 - loss: 0.4253 - val_accuracy: 0.7748 - val_loss: 0.4211\n",
      "Epoch 14/80\n",
      "\u001B[1m14/14\u001B[0m \u001B[32m━━━━━━━━━━━━━━━━━━━━\u001B[0m\u001B[37m\u001B[0m \u001B[1m34s\u001B[0m 2s/step - accuracy: 0.8619 - loss: 0.3844 - val_accuracy: 0.7928 - val_loss: 0.4158\n",
      "Epoch 15/80\n",
      "\u001B[1m14/14\u001B[0m \u001B[32m━━━━━━━━━━━━━━━━━━━━\u001B[0m\u001B[37m\u001B[0m \u001B[1m34s\u001B[0m 2s/step - accuracy: 0.8641 - loss: 0.3613 - val_accuracy: 0.8018 - val_loss: 0.4132\n",
      "Epoch 16/80\n",
      "\u001B[1m14/14\u001B[0m \u001B[32m━━━━━━━━━━━━━━━━━━━━\u001B[0m\u001B[37m\u001B[0m \u001B[1m32s\u001B[0m 2s/step - accuracy: 0.8500 - loss: 0.3778 - val_accuracy: 0.7658 - val_loss: 0.4212\n",
      "Epoch 17/80\n",
      "\u001B[1m14/14\u001B[0m \u001B[32m━━━━━━━━━━━━━━━━━━━━\u001B[0m\u001B[37m\u001B[0m \u001B[1m32s\u001B[0m 2s/step - accuracy: 0.8049 - loss: 0.4013 - val_accuracy: 0.8018 - val_loss: 0.4026\n",
      "Epoch 18/80\n",
      "\u001B[1m14/14\u001B[0m \u001B[32m━━━━━━━━━━━━━━━━━━━━\u001B[0m\u001B[37m\u001B[0m \u001B[1m32s\u001B[0m 2s/step - accuracy: 0.8119 - loss: 0.4024 - val_accuracy: 0.8378 - val_loss: 0.4211\n",
      "Epoch 19/80\n",
      "\u001B[1m14/14\u001B[0m \u001B[32m━━━━━━━━━━━━━━━━━━━━\u001B[0m\u001B[37m\u001B[0m \u001B[1m32s\u001B[0m 2s/step - accuracy: 0.8369 - loss: 0.4104 - val_accuracy: 0.8198 - val_loss: 0.4103\n",
      "Epoch 20/80\n",
      "\u001B[1m14/14\u001B[0m \u001B[32m━━━━━━━━━━━━━━━━━━━━\u001B[0m\u001B[37m\u001B[0m \u001B[1m32s\u001B[0m 2s/step - accuracy: 0.8768 - loss: 0.3356 - val_accuracy: 0.8198 - val_loss: 0.3989\n",
      "Epoch 21/80\n",
      "\u001B[1m14/14\u001B[0m \u001B[32m━━━━━━━━━━━━━━━━━━━━\u001B[0m\u001B[37m\u001B[0m \u001B[1m32s\u001B[0m 2s/step - accuracy: 0.8396 - loss: 0.3866 - val_accuracy: 0.7838 - val_loss: 0.4224\n",
      "Epoch 22/80\n",
      "\u001B[1m14/14\u001B[0m \u001B[32m━━━━━━━━━━━━━━━━━━━━\u001B[0m\u001B[37m\u001B[0m \u001B[1m32s\u001B[0m 2s/step - accuracy: 0.8284 - loss: 0.3815 - val_accuracy: 0.8198 - val_loss: 0.3935\n",
      "Epoch 23/80\n",
      "\u001B[1m14/14\u001B[0m \u001B[32m━━━━━━━━━━━━━━━━━━━━\u001B[0m\u001B[37m\u001B[0m \u001B[1m41s\u001B[0m 2s/step - accuracy: 0.8541 - loss: 0.3506 - val_accuracy: 0.8288 - val_loss: 0.4087\n",
      "Epoch 24/80\n",
      "\u001B[1m14/14\u001B[0m \u001B[32m━━━━━━━━━━━━━━━━━━━━\u001B[0m\u001B[37m\u001B[0m \u001B[1m33s\u001B[0m 2s/step - accuracy: 0.8628 - loss: 0.3900 - val_accuracy: 0.8198 - val_loss: 0.3888\n",
      "Epoch 25/80\n",
      "\u001B[1m14/14\u001B[0m \u001B[32m━━━━━━━━━━━━━━━━━━━━\u001B[0m\u001B[37m\u001B[0m \u001B[1m32s\u001B[0m 2s/step - accuracy: 0.8716 - loss: 0.3500 - val_accuracy: 0.8198 - val_loss: 0.3867\n",
      "Epoch 26/80\n",
      "\u001B[1m14/14\u001B[0m \u001B[32m━━━━━━━━━━━━━━━━━━━━\u001B[0m\u001B[37m\u001B[0m \u001B[1m32s\u001B[0m 2s/step - accuracy: 0.8504 - loss: 0.3478 - val_accuracy: 0.8108 - val_loss: 0.3896\n",
      "Epoch 27/80\n",
      "\u001B[1m14/14\u001B[0m \u001B[32m━━━━━━━━━━━━━━━━━━━━\u001B[0m\u001B[37m\u001B[0m \u001B[1m32s\u001B[0m 2s/step - accuracy: 0.8612 - loss: 0.3409 - val_accuracy: 0.8108 - val_loss: 0.3819\n",
      "Epoch 28/80\n",
      "\u001B[1m14/14\u001B[0m \u001B[32m━━━━━━━━━━━━━━━━━━━━\u001B[0m\u001B[37m\u001B[0m \u001B[1m32s\u001B[0m 2s/step - accuracy: 0.8791 - loss: 0.3318 - val_accuracy: 0.8018 - val_loss: 0.3938\n",
      "Epoch 29/80\n",
      "\u001B[1m14/14\u001B[0m \u001B[32m━━━━━━━━━━━━━━━━━━━━\u001B[0m\u001B[37m\u001B[0m \u001B[1m32s\u001B[0m 2s/step - accuracy: 0.8565 - loss: 0.3359 - val_accuracy: 0.8018 - val_loss: 0.3952\n",
      "Epoch 30/80\n",
      "\u001B[1m14/14\u001B[0m \u001B[32m━━━━━━━━━━━━━━━━━━━━\u001B[0m\u001B[37m\u001B[0m \u001B[1m32s\u001B[0m 2s/step - accuracy: 0.8770 - loss: 0.3061 - val_accuracy: 0.8108 - val_loss: 0.3880\n",
      "Epoch 31/80\n",
      "\u001B[1m14/14\u001B[0m \u001B[32m━━━━━━━━━━━━━━━━━━━━\u001B[0m\u001B[37m\u001B[0m \u001B[1m32s\u001B[0m 2s/step - accuracy: 0.8796 - loss: 0.3508 - val_accuracy: 0.8108 - val_loss: 0.3754\n",
      "Epoch 32/80\n",
      "\u001B[1m14/14\u001B[0m \u001B[32m━━━━━━━━━━━━━━━━━━━━\u001B[0m\u001B[37m\u001B[0m \u001B[1m32s\u001B[0m 2s/step - accuracy: 0.8869 - loss: 0.3207 - val_accuracy: 0.8108 - val_loss: 0.3740\n",
      "Epoch 33/80\n",
      "\u001B[1m14/14\u001B[0m \u001B[32m━━━━━━━━━━━━━━━━━━━━\u001B[0m\u001B[37m\u001B[0m \u001B[1m33s\u001B[0m 2s/step - accuracy: 0.8775 - loss: 0.3502 - val_accuracy: 0.8108 - val_loss: 0.4074\n",
      "Epoch 34/80\n",
      "\u001B[1m14/14\u001B[0m \u001B[32m━━━━━━━━━━━━━━━━━━━━\u001B[0m\u001B[37m\u001B[0m \u001B[1m32s\u001B[0m 2s/step - accuracy: 0.8541 - loss: 0.3251 - val_accuracy: 0.8198 - val_loss: 0.3846\n",
      "Epoch 35/80\n",
      "\u001B[1m14/14\u001B[0m \u001B[32m━━━━━━━━━━━━━━━━━━━━\u001B[0m\u001B[37m\u001B[0m \u001B[1m32s\u001B[0m 2s/step - accuracy: 0.8366 - loss: 0.3519 - val_accuracy: 0.8198 - val_loss: 0.3751\n",
      "Epoch 36/80\n",
      "\u001B[1m14/14\u001B[0m \u001B[32m━━━━━━━━━━━━━━━━━━━━\u001B[0m\u001B[37m\u001B[0m \u001B[1m32s\u001B[0m 2s/step - accuracy: 0.8800 - loss: 0.3397 - val_accuracy: 0.8108 - val_loss: 0.3950\n",
      "Epoch 37/80\n",
      "\u001B[1m14/14\u001B[0m \u001B[32m━━━━━━━━━━━━━━━━━━━━\u001B[0m\u001B[37m\u001B[0m \u001B[1m32s\u001B[0m 2s/step - accuracy: 0.8956 - loss: 0.3195 - val_accuracy: 0.8018 - val_loss: 0.3683\n",
      "Epoch 38/80\n",
      "\u001B[1m14/14\u001B[0m \u001B[32m━━━━━━━━━━━━━━━━━━━━\u001B[0m\u001B[37m\u001B[0m \u001B[1m35s\u001B[0m 3s/step - accuracy: 0.9024 - loss: 0.2854 - val_accuracy: 0.8288 - val_loss: 0.3763\n",
      "Epoch 39/80\n",
      "\u001B[1m14/14\u001B[0m \u001B[32m━━━━━━━━━━━━━━━━━━━━\u001B[0m\u001B[37m\u001B[0m \u001B[1m34s\u001B[0m 2s/step - accuracy: 0.8888 - loss: 0.2939 - val_accuracy: 0.8198 - val_loss: 0.3674\n",
      "Epoch 40/80\n",
      "\u001B[1m14/14\u001B[0m \u001B[32m━━━━━━━━━━━━━━━━━━━━\u001B[0m\u001B[37m\u001B[0m \u001B[1m34s\u001B[0m 2s/step - accuracy: 0.8998 - loss: 0.2821 - val_accuracy: 0.8198 - val_loss: 0.3685\n",
      "Epoch 41/80\n",
      "\u001B[1m14/14\u001B[0m \u001B[32m━━━━━━━━━━━━━━━━━━━━\u001B[0m\u001B[37m\u001B[0m \u001B[1m31s\u001B[0m 2s/step - accuracy: 0.8735 - loss: 0.3084 - val_accuracy: 0.8198 - val_loss: 0.3687\n",
      "Epoch 42/80\n",
      "\u001B[1m14/14\u001B[0m \u001B[32m━━━━━━━━━━━━━━━━━━━━\u001B[0m\u001B[37m\u001B[0m \u001B[1m30s\u001B[0m 2s/step - accuracy: 0.8822 - loss: 0.3033 - val_accuracy: 0.8288 - val_loss: 0.3765\n",
      "Epoch 43/80\n",
      "\u001B[1m14/14\u001B[0m \u001B[32m━━━━━━━━━━━━━━━━━━━━\u001B[0m\u001B[37m\u001B[0m \u001B[1m30s\u001B[0m 2s/step - accuracy: 0.8712 - loss: 0.3211 - val_accuracy: 0.8198 - val_loss: 0.3777\n",
      "Epoch 44/80\n",
      "\u001B[1m14/14\u001B[0m \u001B[32m━━━━━━━━━━━━━━━━━━━━\u001B[0m\u001B[37m\u001B[0m \u001B[1m30s\u001B[0m 2s/step - accuracy: 0.8694 - loss: 0.3186 - val_accuracy: 0.8288 - val_loss: 0.3704\n",
      "Epoch 45/80\n",
      "\u001B[1m14/14\u001B[0m \u001B[32m━━━━━━━━━━━━━━━━━━━━\u001B[0m\u001B[37m\u001B[0m \u001B[1m29s\u001B[0m 2s/step - accuracy: 0.8608 - loss: 0.3222 - val_accuracy: 0.8198 - val_loss: 0.3652\n",
      "Epoch 46/80\n",
      "\u001B[1m14/14\u001B[0m \u001B[32m━━━━━━━━━━━━━━━━━━━━\u001B[0m\u001B[37m\u001B[0m \u001B[1m29s\u001B[0m 2s/step - accuracy: 0.8954 - loss: 0.2888 - val_accuracy: 0.8108 - val_loss: 0.3612\n",
      "Epoch 47/80\n",
      "\u001B[1m14/14\u001B[0m \u001B[32m━━━━━━━━━━━━━━━━━━━━\u001B[0m\u001B[37m\u001B[0m \u001B[1m29s\u001B[0m 2s/step - accuracy: 0.8751 - loss: 0.3006 - val_accuracy: 0.8198 - val_loss: 0.3607\n",
      "Epoch 48/80\n",
      "\u001B[1m14/14\u001B[0m \u001B[32m━━━━━━━━━━━━━━━━━━━━\u001B[0m\u001B[37m\u001B[0m \u001B[1m29s\u001B[0m 2s/step - accuracy: 0.8948 - loss: 0.2887 - val_accuracy: 0.8288 - val_loss: 0.3646\n",
      "Epoch 49/80\n",
      "\u001B[1m14/14\u001B[0m \u001B[32m━━━━━━━━━━━━━━━━━━━━\u001B[0m\u001B[37m\u001B[0m \u001B[1m29s\u001B[0m 2s/step - accuracy: 0.8764 - loss: 0.3033 - val_accuracy: 0.8288 - val_loss: 0.3721\n",
      "Epoch 50/80\n",
      "\u001B[1m14/14\u001B[0m \u001B[32m━━━━━━━━━━━━━━━━━━━━\u001B[0m\u001B[37m\u001B[0m \u001B[1m29s\u001B[0m 2s/step - accuracy: 0.8787 - loss: 0.3205 - val_accuracy: 0.8018 - val_loss: 0.3873\n",
      "Epoch 51/80\n",
      "\u001B[1m14/14\u001B[0m \u001B[32m━━━━━━━━━━━━━━━━━━━━\u001B[0m\u001B[37m\u001B[0m \u001B[1m29s\u001B[0m 2s/step - accuracy: 0.8805 - loss: 0.2998 - val_accuracy: 0.8378 - val_loss: 0.3653\n",
      "Epoch 52/80\n",
      "\u001B[1m14/14\u001B[0m \u001B[32m━━━━━━━━━━━━━━━━━━━━\u001B[0m\u001B[37m\u001B[0m \u001B[1m28s\u001B[0m 2s/step - accuracy: 0.9021 - loss: 0.2623 - val_accuracy: 0.8198 - val_loss: 0.3595\n",
      "Epoch 53/80\n",
      "\u001B[1m14/14\u001B[0m \u001B[32m━━━━━━━━━━━━━━━━━━━━\u001B[0m\u001B[37m\u001B[0m \u001B[1m29s\u001B[0m 2s/step - accuracy: 0.8898 - loss: 0.2750 - val_accuracy: 0.8288 - val_loss: 0.3697\n",
      "Epoch 54/80\n",
      "\u001B[1m14/14\u001B[0m \u001B[32m━━━━━━━━━━━━━━━━━━━━\u001B[0m\u001B[37m\u001B[0m \u001B[1m29s\u001B[0m 2s/step - accuracy: 0.8862 - loss: 0.3030 - val_accuracy: 0.8198 - val_loss: 0.3559\n",
      "Epoch 55/80\n",
      "\u001B[1m14/14\u001B[0m \u001B[32m━━━━━━━━━━━━━━━━━━━━\u001B[0m\u001B[37m\u001B[0m \u001B[1m29s\u001B[0m 2s/step - accuracy: 0.8998 - loss: 0.2809 - val_accuracy: 0.8288 - val_loss: 0.3551\n",
      "Epoch 56/80\n",
      "\u001B[1m14/14\u001B[0m \u001B[32m━━━━━━━━━━━━━━━━━━━━\u001B[0m\u001B[37m\u001B[0m \u001B[1m29s\u001B[0m 2s/step - accuracy: 0.8953 - loss: 0.2819 - val_accuracy: 0.8288 - val_loss: 0.3597\n",
      "Epoch 57/80\n",
      "\u001B[1m14/14\u001B[0m \u001B[32m━━━━━━━━━━━━━━━━━━━━\u001B[0m\u001B[37m\u001B[0m \u001B[1m29s\u001B[0m 2s/step - accuracy: 0.9149 - loss: 0.2576 - val_accuracy: 0.8378 - val_loss: 0.3713\n",
      "Epoch 58/80\n",
      "\u001B[1m14/14\u001B[0m \u001B[32m━━━━━━━━━━━━━━━━━━━━\u001B[0m\u001B[37m\u001B[0m \u001B[1m29s\u001B[0m 2s/step - accuracy: 0.9066 - loss: 0.2589 - val_accuracy: 0.8288 - val_loss: 0.3572\n",
      "Epoch 59/80\n",
      "\u001B[1m14/14\u001B[0m \u001B[32m━━━━━━━━━━━━━━━━━━━━\u001B[0m\u001B[37m\u001B[0m \u001B[1m29s\u001B[0m 2s/step - accuracy: 0.9339 - loss: 0.2382 - val_accuracy: 0.8198 - val_loss: 0.3540\n",
      "Epoch 60/80\n",
      "\u001B[1m14/14\u001B[0m \u001B[32m━━━━━━━━━━━━━━━━━━━━\u001B[0m\u001B[37m\u001B[0m \u001B[1m29s\u001B[0m 2s/step - accuracy: 0.8980 - loss: 0.2695 - val_accuracy: 0.8198 - val_loss: 0.3540\n",
      "Epoch 61/80\n",
      "\u001B[1m14/14\u001B[0m \u001B[32m━━━━━━━━━━━━━━━━━━━━\u001B[0m\u001B[37m\u001B[0m \u001B[1m29s\u001B[0m 2s/step - accuracy: 0.8959 - loss: 0.2626 - val_accuracy: 0.8288 - val_loss: 0.3562\n",
      "Epoch 62/80\n",
      "\u001B[1m14/14\u001B[0m \u001B[32m━━━━━━━━━━━━━━━━━━━━\u001B[0m\u001B[37m\u001B[0m \u001B[1m29s\u001B[0m 2s/step - accuracy: 0.9044 - loss: 0.2616 - val_accuracy: 0.8288 - val_loss: 0.3540\n",
      "Epoch 63/80\n",
      "\u001B[1m14/14\u001B[0m \u001B[32m━━━━━━━━━━━━━━━━━━━━\u001B[0m\u001B[37m\u001B[0m \u001B[1m29s\u001B[0m 2s/step - accuracy: 0.9064 - loss: 0.2588 - val_accuracy: 0.8378 - val_loss: 0.3523\n",
      "Epoch 64/80\n",
      "\u001B[1m14/14\u001B[0m \u001B[32m━━━━━━━━━━━━━━━━━━━━\u001B[0m\u001B[37m\u001B[0m \u001B[1m30s\u001B[0m 2s/step - accuracy: 0.8833 - loss: 0.2975 - val_accuracy: 0.8198 - val_loss: 0.3547\n",
      "Epoch 65/80\n",
      "\u001B[1m14/14\u001B[0m \u001B[32m━━━━━━━━━━━━━━━━━━━━\u001B[0m\u001B[37m\u001B[0m \u001B[1m29s\u001B[0m 2s/step - accuracy: 0.9043 - loss: 0.2636 - val_accuracy: 0.8198 - val_loss: 0.3540\n",
      "Epoch 66/80\n",
      "\u001B[1m14/14\u001B[0m \u001B[32m━━━━━━━━━━━━━━━━━━━━\u001B[0m\u001B[37m\u001B[0m \u001B[1m29s\u001B[0m 2s/step - accuracy: 0.8806 - loss: 0.2846 - val_accuracy: 0.8378 - val_loss: 0.3513\n",
      "Epoch 67/80\n",
      "\u001B[1m14/14\u001B[0m \u001B[32m━━━━━━━━━━━━━━━━━━━━\u001B[0m\u001B[37m\u001B[0m \u001B[1m29s\u001B[0m 2s/step - accuracy: 0.8937 - loss: 0.2868 - val_accuracy: 0.8378 - val_loss: 0.3505\n",
      "Epoch 68/80\n",
      "\u001B[1m14/14\u001B[0m \u001B[32m━━━━━━━━━━━━━━━━━━━━\u001B[0m\u001B[37m\u001B[0m \u001B[1m29s\u001B[0m 2s/step - accuracy: 0.9145 - loss: 0.2590 - val_accuracy: 0.8288 - val_loss: 0.3515\n",
      "Epoch 69/80\n",
      "\u001B[1m14/14\u001B[0m \u001B[32m━━━━━━━━━━━━━━━━━━━━\u001B[0m\u001B[37m\u001B[0m \u001B[1m30s\u001B[0m 2s/step - accuracy: 0.9054 - loss: 0.2568 - val_accuracy: 0.8288 - val_loss: 0.3526\n",
      "Epoch 70/80\n",
      "\u001B[1m14/14\u001B[0m \u001B[32m━━━━━━━━━━━━━━━━━━━━\u001B[0m\u001B[37m\u001B[0m \u001B[1m29s\u001B[0m 2s/step - accuracy: 0.9135 - loss: 0.2572 - val_accuracy: 0.8288 - val_loss: 0.3549\n",
      "Epoch 71/80\n",
      "\u001B[1m14/14\u001B[0m \u001B[32m━━━━━━━━━━━━━━━━━━━━\u001B[0m\u001B[37m\u001B[0m \u001B[1m29s\u001B[0m 2s/step - accuracy: 0.9125 - loss: 0.2525 - val_accuracy: 0.8378 - val_loss: 0.3621\n",
      "Epoch 72/80\n",
      "\u001B[1m14/14\u001B[0m \u001B[32m━━━━━━━━━━━━━━━━━━━━\u001B[0m\u001B[37m\u001B[0m \u001B[1m29s\u001B[0m 2s/step - accuracy: 0.9018 - loss: 0.2597 - val_accuracy: 0.8288 - val_loss: 0.3547\n",
      "Epoch 73/80\n",
      "\u001B[1m14/14\u001B[0m \u001B[32m━━━━━━━━━━━━━━━━━━━━\u001B[0m\u001B[37m\u001B[0m \u001B[1m29s\u001B[0m 2s/step - accuracy: 0.9110 - loss: 0.2479 - val_accuracy: 0.8288 - val_loss: 0.3555\n",
      "Epoch 74/80\n",
      "\u001B[1m14/14\u001B[0m \u001B[32m━━━━━━━━━━━━━━━━━━━━\u001B[0m\u001B[37m\u001B[0m \u001B[1m29s\u001B[0m 2s/step - accuracy: 0.8904 - loss: 0.2599 - val_accuracy: 0.8378 - val_loss: 0.3487\n",
      "Epoch 75/80\n",
      "\u001B[1m14/14\u001B[0m \u001B[32m━━━━━━━━━━━━━━━━━━━━\u001B[0m\u001B[37m\u001B[0m \u001B[1m29s\u001B[0m 2s/step - accuracy: 0.9085 - loss: 0.2539 - val_accuracy: 0.8378 - val_loss: 0.3565\n",
      "Epoch 76/80\n",
      "\u001B[1m14/14\u001B[0m \u001B[32m━━━━━━━━━━━━━━━━━━━━\u001B[0m\u001B[37m\u001B[0m \u001B[1m29s\u001B[0m 2s/step - accuracy: 0.9353 - loss: 0.2280 - val_accuracy: 0.8198 - val_loss: 0.3536\n",
      "Epoch 77/80\n",
      "\u001B[1m14/14\u001B[0m \u001B[32m━━━━━━━━━━━━━━━━━━━━\u001B[0m\u001B[37m\u001B[0m \u001B[1m29s\u001B[0m 2s/step - accuracy: 0.9083 - loss: 0.2517 - val_accuracy: 0.8288 - val_loss: 0.3523\n",
      "Epoch 78/80\n",
      "\u001B[1m14/14\u001B[0m \u001B[32m━━━━━━━━━━━━━━━━━━━━\u001B[0m\u001B[37m\u001B[0m \u001B[1m29s\u001B[0m 2s/step - accuracy: 0.9145 - loss: 0.2314 - val_accuracy: 0.8378 - val_loss: 0.3476\n",
      "Epoch 79/80\n",
      "\u001B[1m14/14\u001B[0m \u001B[32m━━━━━━━━━━━━━━━━━━━━\u001B[0m\u001B[37m\u001B[0m \u001B[1m29s\u001B[0m 2s/step - accuracy: 0.9185 - loss: 0.2295 - val_accuracy: 0.8378 - val_loss: 0.3472\n",
      "Epoch 80/80\n",
      "\u001B[1m14/14\u001B[0m \u001B[32m━━━━━━━━━━━━━━━━━━━━\u001B[0m\u001B[37m\u001B[0m \u001B[1m29s\u001B[0m 2s/step - accuracy: 0.9270 - loss: 0.2317 - val_accuracy: 0.8198 - val_loss: 0.3669\n"
     ]
    },
    {
     "data": {
      "text/plain": "<keras.src.callbacks.history.History at 0x21383f3f770>"
     },
     "execution_count": 12,
     "metadata": {},
     "output_type": "execute_result"
    }
   ],
   "source": [
    "model.fit(X_train, y_train, epochs=80, validation_data=(X_val, y_val))\n"
   ],
   "metadata": {
    "collapsed": false,
    "ExecuteTime": {
     "end_time": "2024-06-26T20:47:36.239776600Z",
     "start_time": "2024-06-26T20:06:02.463023500Z"
    }
   },
   "execution_count": 12
  },
  {
   "cell_type": "code",
   "outputs": [
    {
     "name": "stdout",
     "output_type": "stream",
     "text": [
      "\u001B[1m4/4\u001B[0m \u001B[32m━━━━━━━━━━━━━━━━━━━━\u001B[0m\u001B[37m\u001B[0m \u001B[1m6s\u001B[0m 1s/step - accuracy: 0.8008 - loss: 0.4113\n"
     ]
    },
    {
     "name": "stderr",
     "output_type": "stream",
     "text": [
      "WARNING:absl:You are saving your model as an HDF5 file via `model.save()` or `keras.saving.save_model(model)`. This file format is considered legacy. We recommend using instead the native Keras format, e.g. `model.save('my_model.keras')` or `keras.saving.save_model(model, 'my_model.keras')`. \n"
     ]
    },
    {
     "name": "stdout",
     "output_type": "stream",
     "text": [
      "Test accuracy: 0.8198198080062866\n"
     ]
    }
   ],
   "source": [
    "loss, accuracy = model.evaluate(X_val, y_val)\n",
    "print('Test accuracy:', accuracy)\n",
    "\n",
    "model.save('classificator_2.h5')"
   ],
   "metadata": {
    "collapsed": false,
    "ExecuteTime": {
     "end_time": "2024-06-26T20:48:56.123373100Z",
     "start_time": "2024-06-26T20:48:49.768439800Z"
    }
   },
   "execution_count": 13
  },
  {
   "cell_type": "code",
   "outputs": [
    {
     "name": "stderr",
     "output_type": "stream",
     "text": [
      "WARNING:absl:Compiled the loaded model, but the compiled metrics have yet to be built. `model.compile_metrics` will be empty until you train or evaluate the model.\n"
     ]
    },
    {
     "name": "stdout",
     "output_type": "stream",
     "text": [
      "\u001B[1m1/1\u001B[0m \u001B[32m━━━━━━━━━━━━━━━━━━━━\u001B[0m\u001B[37m\u001B[0m \u001B[1m1s\u001B[0m 922ms/step\n",
      "[[0.8505496  0.08694281]] \n",
      " [0 1]\n",
      "\u001B[1m1/1\u001B[0m \u001B[32m━━━━━━━━━━━━━━━━━━━━\u001B[0m\u001B[37m\u001B[0m \u001B[1m0s\u001B[0m 88ms/step\n",
      "[[0.6967798 0.1505777]] \n",
      " [1 0]\n",
      "\u001B[1m1/1\u001B[0m \u001B[32m━━━━━━━━━━━━━━━━━━━━\u001B[0m\u001B[37m\u001B[0m \u001B[1m0s\u001B[0m 90ms/step\n",
      "[[0.9571435  0.03062754]] \n",
      " [1 0]\n",
      "\u001B[1m1/1\u001B[0m \u001B[32m━━━━━━━━━━━━━━━━━━━━\u001B[0m\u001B[37m\u001B[0m \u001B[1m0s\u001B[0m 95ms/step\n",
      "[[0.19306839 0.4927955 ]] \n",
      " [0 1]\n",
      "\u001B[1m1/1\u001B[0m \u001B[32m━━━━━━━━━━━━━━━━━━━━\u001B[0m\u001B[37m\u001B[0m \u001B[1m0s\u001B[0m 91ms/step\n",
      "[[0.49941036 0.20388314]] \n",
      " [1 0]\n",
      "\u001B[1m1/1\u001B[0m \u001B[32m━━━━━━━━━━━━━━━━━━━━\u001B[0m\u001B[37m\u001B[0m \u001B[1m0s\u001B[0m 90ms/step\n",
      "[[0.9443833  0.02995677]] \n",
      " [1 0]\n",
      "\u001B[1m1/1\u001B[0m \u001B[32m━━━━━━━━━━━━━━━━━━━━\u001B[0m\u001B[37m\u001B[0m \u001B[1m0s\u001B[0m 95ms/step\n",
      "[[0.27063748 0.47569102]] \n",
      " [0 1]\n",
      "\u001B[1m1/1\u001B[0m \u001B[32m━━━━━━━━━━━━━━━━━━━━\u001B[0m\u001B[37m\u001B[0m \u001B[1m0s\u001B[0m 91ms/step\n",
      "[[0.32349434 0.3761934 ]] \n",
      " [0 1]\n",
      "\u001B[1m1/1\u001B[0m \u001B[32m━━━━━━━━━━━━━━━━━━━━\u001B[0m\u001B[37m\u001B[0m \u001B[1m0s\u001B[0m 94ms/step\n",
      "[[0.2262347  0.59166986]] \n",
      " [0 1]\n",
      "\u001B[1m1/1\u001B[0m \u001B[32m━━━━━━━━━━━━━━━━━━━━\u001B[0m\u001B[37m\u001B[0m \u001B[1m0s\u001B[0m 92ms/step\n",
      "[[0.8025678  0.15414624]] \n",
      " [1 0]\n",
      "\u001B[1m1/1\u001B[0m \u001B[32m━━━━━━━━━━━━━━━━━━━━\u001B[0m\u001B[37m\u001B[0m \u001B[1m0s\u001B[0m 94ms/step\n",
      "[[0.8153183 0.1202962]] \n",
      " [0 1]\n",
      "\u001B[1m1/1\u001B[0m \u001B[32m━━━━━━━━━━━━━━━━━━━━\u001B[0m\u001B[37m\u001B[0m \u001B[1m0s\u001B[0m 90ms/step\n",
      "[[0.93353856 0.03972495]] \n",
      " [1 0]\n",
      "\u001B[1m1/1\u001B[0m \u001B[32m━━━━━━━━━━━━━━━━━━━━\u001B[0m\u001B[37m\u001B[0m \u001B[1m0s\u001B[0m 89ms/step\n",
      "[[0.84322953 0.05783981]] \n",
      " [1 0]\n",
      "\u001B[1m1/1\u001B[0m \u001B[32m━━━━━━━━━━━━━━━━━━━━\u001B[0m\u001B[37m\u001B[0m \u001B[1m0s\u001B[0m 90ms/step\n",
      "[[0.93655133 0.05109823]] \n",
      " [1 0]\n",
      "\u001B[1m1/1\u001B[0m \u001B[32m━━━━━━━━━━━━━━━━━━━━\u001B[0m\u001B[37m\u001B[0m \u001B[1m0s\u001B[0m 89ms/step\n",
      "[[0.47077596 0.34423825]] \n",
      " [0 1]\n",
      "\u001B[1m1/1\u001B[0m \u001B[32m━━━━━━━━━━━━━━━━━━━━\u001B[0m\u001B[37m\u001B[0m \u001B[1m0s\u001B[0m 91ms/step\n",
      "[[0.51662755 0.4542975 ]] \n",
      " [0 1]\n",
      "\u001B[1m1/1\u001B[0m \u001B[32m━━━━━━━━━━━━━━━━━━━━\u001B[0m\u001B[37m\u001B[0m \u001B[1m0s\u001B[0m 90ms/step\n",
      "[[0.5798729  0.24608153]] \n",
      " [1 0]\n",
      "\u001B[1m1/1\u001B[0m \u001B[32m━━━━━━━━━━━━━━━━━━━━\u001B[0m\u001B[37m\u001B[0m \u001B[1m0s\u001B[0m 94ms/step\n",
      "[[0.8641463  0.07562622]] \n",
      " [1 0]\n",
      "\u001B[1m1/1\u001B[0m \u001B[32m━━━━━━━━━━━━━━━━━━━━\u001B[0m\u001B[37m\u001B[0m \u001B[1m0s\u001B[0m 95ms/step\n",
      "[[0.741923   0.16976103]] \n",
      " [1 0]\n",
      "\u001B[1m1/1\u001B[0m \u001B[32m━━━━━━━━━━━━━━━━━━━━\u001B[0m\u001B[37m\u001B[0m \u001B[1m0s\u001B[0m 90ms/step\n",
      "[[0.8771433  0.08917183]] \n",
      " [1 0]\n"
     ]
    }
   ],
   "source": [
    "model_rap = tf.keras.models.load_model('classificator_5.h5')\n",
    "\n",
    "\n",
    "for n in range(20):\n",
    "    y_real = y_val[n]\n",
    "    tbp = np.asarray(X_val[n])\n",
    "    cv2.imshow('ss', tbp)\n",
    "    tbp = np.expand_dims(tbp, axis=0)\n",
    "    predictions = model_rap.predict(tbp)\n",
    "    print(predictions, \"\\n\", y_real)\n",
    "\n",
    "    cv2.waitKey(0) & 0xFF\n",
    "cv2.destroyWindow('ss')"
   ],
   "metadata": {
    "collapsed": false,
    "ExecuteTime": {
     "end_time": "2024-06-30T22:42:04.236928600Z",
     "start_time": "2024-06-30T22:40:21.003874200Z"
    }
   },
   "execution_count": 10
  },
  {
   "cell_type": "code",
   "outputs": [],
   "source": [
    "model_rap = tf.keras.models.load_model('classificator_4.h5')\n",
    "model_rap.compile(optimizer='adam',\n",
    "              loss='categorical_crossentropy',\n",
    "              metrics=['accuracy'])\n",
    "\n",
    "model_rap.fit(X_train, y_train, epochs=20, validation_data=(X_val, y_val))\n",
    "model_rap.save('classificator_5.h5')"
   ],
   "metadata": {
    "collapsed": false,
    "ExecuteTime": {
     "start_time": "2024-07-01T09:25:03.639344400Z"
    }
   },
   "execution_count": null
  },
  {
   "cell_type": "markdown",
   "source": [
    "augmented data fragment"
   ],
   "metadata": {
    "collapsed": false
   }
  },
  {
   "cell_type": "code",
   "outputs": [
    {
     "name": "stdout",
     "output_type": "stream",
     "text": [
      "(539, 360, 640, 3) (539, 2)\n"
     ]
    }
   ],
   "source": [
    "X = []\n",
    "y = []\n",
    "\n",
    "folder_path = 'augmented_data/'\n",
    "\n",
    "for folder_name in ['attack_img', 'explore_img']: #, 'loot_img', 'getaway_img']:\n",
    "    folder_full_path = os.path.join(folder_path + folder_name)\n",
    "    \n",
    "    class_label = {\n",
    "      'attack_img': [1,0],\n",
    "      'explore_img': [0,1],\n",
    "      # 'loot_img': [0,0,1,0],\n",
    "      # 'getaway_img': [0,0,0,1]\n",
    "    }[folder_name]\n",
    "    \n",
    "    for filename in os.listdir(folder_full_path):\n",
    "        if filename.endswith(\".jpg\") :\n",
    "            img = cv2.imread(os.path.join(folder_full_path, filename))\n",
    "        \n",
    "            # Append image to X and label to y\n",
    "            X.append(img)\n",
    "            \n",
    "            \n",
    "            y.append(class_label)\n",
    "        \n",
    "\n",
    "X = np.asarray(X)\n",
    "y = np.asarray(y)\n",
    "X_train, X_val, y_train, y_val = train_test_split(X, y, test_size=0.2, random_state=42)\n",
    "print(X_train.shape, y_train.shape)"
   ],
   "metadata": {
    "collapsed": false,
    "ExecuteTime": {
     "end_time": "2024-07-01T09:26:32.414979600Z",
     "start_time": "2024-07-01T09:26:28.505661300Z"
    }
   },
   "execution_count": 2
  },
  {
   "cell_type": "code",
   "outputs": [
    {
     "name": "stderr",
     "output_type": "stream",
     "text": [
      "WARNING:absl:Compiled the loaded model, but the compiled metrics have yet to be built. `model.compile_metrics` will be empty until you train or evaluate the model.\n"
     ]
    },
    {
     "name": "stdout",
     "output_type": "stream",
     "text": [
      "Epoch 1/20\n",
      "\u001B[1m17/17\u001B[0m \u001B[32m━━━━━━━━━━━━━━━━━━━━\u001B[0m\u001B[37m\u001B[0m \u001B[1m39s\u001B[0m 2s/step - accuracy: 0.5478 - loss: 0.9194 - val_accuracy: 0.5333 - val_loss: 0.8030\n",
      "Epoch 2/20\n",
      "\u001B[1m17/17\u001B[0m \u001B[32m━━━━━━━━━━━━━━━━━━━━\u001B[0m\u001B[37m\u001B[0m \u001B[1m36s\u001B[0m 2s/step - accuracy: 0.6171 - loss: 0.7377 - val_accuracy: 0.6000 - val_loss: 0.7365\n",
      "Epoch 3/20\n",
      "\u001B[1m17/17\u001B[0m \u001B[32m━━━━━━━━━━━━━━━━━━━━\u001B[0m\u001B[37m\u001B[0m \u001B[1m33s\u001B[0m 2s/step - accuracy: 0.6238 - loss: 0.6760 - val_accuracy: 0.6296 - val_loss: 0.7277\n",
      "Epoch 4/20\n",
      "\u001B[1m17/17\u001B[0m \u001B[32m━━━━━━━━━━━━━━━━━━━━\u001B[0m\u001B[37m\u001B[0m \u001B[1m33s\u001B[0m 2s/step - accuracy: 0.6253 - loss: 0.7166 - val_accuracy: 0.6222 - val_loss: 0.7338\n",
      "Epoch 5/20\n",
      "\u001B[1m17/17\u001B[0m \u001B[32m━━━━━━━━━━━━━━━━━━━━\u001B[0m\u001B[37m\u001B[0m \u001B[1m33s\u001B[0m 2s/step - accuracy: 0.6806 - loss: 0.6334 - val_accuracy: 0.6296 - val_loss: 0.7040\n",
      "Epoch 6/20\n",
      "\u001B[1m17/17\u001B[0m \u001B[32m━━━━━━━━━━━━━━━━━━━━\u001B[0m\u001B[37m\u001B[0m \u001B[1m33s\u001B[0m 2s/step - accuracy: 0.6842 - loss: 0.6315 - val_accuracy: 0.6222 - val_loss: 0.7046\n",
      "Epoch 7/20\n",
      "\u001B[1m17/17\u001B[0m \u001B[32m━━━━━━━━━━━━━━━━━━━━\u001B[0m\u001B[37m\u001B[0m \u001B[1m33s\u001B[0m 2s/step - accuracy: 0.6995 - loss: 0.6055 - val_accuracy: 0.5481 - val_loss: 0.7626\n",
      "Epoch 8/20\n",
      "\u001B[1m17/17\u001B[0m \u001B[32m━━━━━━━━━━━━━━━━━━━━\u001B[0m\u001B[37m\u001B[0m \u001B[1m36s\u001B[0m 2s/step - accuracy: 0.6577 - loss: 0.6432 - val_accuracy: 0.6519 - val_loss: 0.7143\n",
      "Epoch 9/20\n",
      "\u001B[1m17/17\u001B[0m \u001B[32m━━━━━━━━━━━━━━━━━━━━\u001B[0m\u001B[37m\u001B[0m \u001B[1m38s\u001B[0m 2s/step - accuracy: 0.6450 - loss: 0.6563 - val_accuracy: 0.6519 - val_loss: 0.7039\n",
      "Epoch 10/20\n",
      "\u001B[1m14/17\u001B[0m \u001B[32m━━━━━━━━━━━━━━━━\u001B[0m\u001B[37m━━━━\u001B[0m \u001B[1m5s\u001B[0m 2s/step - accuracy: 0.6754 - loss: 0.5824"
     ]
    }
   ],
   "source": [
    "model_rap = tf.keras.models.load_model('classificator_5.h5')\n",
    "model_rap.compile(optimizer='adam',\n",
    "              loss='categorical_crossentropy',\n",
    "              metrics=['accuracy'])\n",
    "\n",
    "model_rap.fit(X_train, y_train, epochs=20, validation_data=(X_val, y_val))\n",
    "model_rap.save('classificator_5_augmented.h5')"
   ],
   "metadata": {
    "collapsed": false,
    "is_executing": true,
    "ExecuteTime": {
     "start_time": "2024-07-01T09:27:18.169669Z"
    }
   }
  }
 ],
 "metadata": {
  "accelerator": "GPU",
  "colab": {
   "gpuType": "T4",
   "provenance": []
  },
  "kernelspec": {
   "display_name": "Python 3 (ipykernel)",
   "name": "python3",
   "language": "python"
  },
  "language_info": {
   "name": "python"
  }
 },
 "nbformat": 4,
 "nbformat_minor": 0
}
